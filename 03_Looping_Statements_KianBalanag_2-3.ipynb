{
 "cells": [
  {
   "cell_type": "markdown",
   "metadata": {},
   "source": [
    "## Lab 2 Exercise 1\n",
    "To calculate powers using recursion in Python, you can define a recursive function power(base, exponent):"
   ]
  },
  {
   "cell_type": "code",
   "execution_count": 1,
   "metadata": {},
   "outputs": [
    {
     "name": "stdout",
     "output_type": "stream",
     "text": [
      "128\n"
     ]
    }
   ],
   "source": [
    "def power(base, exponent):\n",
    "    if exponent == 0:\n",
    "        return 1\n",
    "    else:\n",
    "        return base * power(base, exponent - 1)\n",
    "\n",
    "# Example usage\n",
    "print(power(2, 7))  # Output: 128"
   ]
  },
  {
   "cell_type": "markdown",
   "metadata": {},
   "source": [
    "## Lab 2 Exercise 2\n",
    "To compute the cube of integers from an array, you can follow these steps:\n",
    "\n",
    "1. Input the size of the array.\n",
    "2. Input the elements of the array.\n",
    "3. Display the cube of each element.\n",
    "\n",
    "Here is the Python code to achieve this:"
   ]
  },
  {
   "cell_type": "code",
   "execution_count": 2,
   "metadata": {},
   "outputs": [
    {
     "name": "stdout",
     "output_type": "stream",
     "text": [
      "13824\n"
     ]
    }
   ],
   "source": [
    "def cube_elements():\n",
    "    size = int(input(\"Enter the size of the array: \"))\n",
    "    elements = list(map(int, input(\"Enter the elements separated by space: \").split()))\n",
    "    \n",
    "    for element in elements:\n",
    "        print(element ** 3)\n",
    "\n",
    "# Example usage\n",
    "cube_elements()"
   ]
  },
  {
   "cell_type": "markdown",
   "metadata": {},
   "source": [
    "## Lab 2 Exercise 3\n",
    "To generate a hollow square based on the integer input side length n, you can use the following code:"
   ]
  },
  {
   "cell_type": "code",
   "execution_count": 3,
   "metadata": {},
   "outputs": [
    {
     "name": "stdout",
     "output_type": "stream",
     "text": [
      "xxx\n",
      "x x\n",
      "xxx\n"
     ]
    }
   ],
   "source": [
    "def hollow_square(n):\n",
    "    for i in range(n):\n",
    "        if i == 0 or i == n - 1:\n",
    "            print('x' * n)\n",
    "        else:\n",
    "            print('x' + ' ' * (n - 2) + 'x')\n",
    "\n",
    "# Example usage\n",
    "side_length = int(input(\"Enter the side length of the square: \"))\n",
    "hollow_square(side_length)"
   ]
  },
  {
   "cell_type": "markdown",
   "metadata": {},
   "source": [
    "## Lab 2 Exercise 4\n",
    "To generate an inverted right triangle of height n, you can use the following code:"
   ]
  },
  {
   "cell_type": "code",
   "execution_count": 4,
   "metadata": {},
   "outputs": [
    {
     "name": "stdout",
     "output_type": "stream",
     "text": [
      "*********************************************\n",
      "********************************************\n",
      "*******************************************\n",
      "******************************************\n",
      "*****************************************\n",
      "****************************************\n",
      "***************************************\n",
      "**************************************\n",
      "*************************************\n",
      "************************************\n",
      "***********************************\n",
      "**********************************\n",
      "*********************************\n",
      "********************************\n",
      "*******************************\n",
      "******************************\n",
      "*****************************\n",
      "****************************\n",
      "***************************\n",
      "**************************\n",
      "*************************\n",
      "************************\n",
      "***********************\n",
      "**********************\n",
      "*********************\n",
      "********************\n",
      "*******************\n",
      "******************\n",
      "*****************\n",
      "****************\n",
      "***************\n",
      "**************\n",
      "*************\n",
      "************\n",
      "***********\n",
      "**********\n",
      "*********\n",
      "********\n",
      "*******\n",
      "******\n",
      "*****\n",
      "****\n",
      "***\n",
      "**\n",
      "*\n"
     ]
    }
   ],
   "source": [
    "def inverted_right_triangle(n):\n",
    "    for i in range(n, 0, -1):\n",
    "        print('*' * i)\n",
    "\n",
    "# Example usage\n",
    "height = int(input(\"Enter the height of the triangle: \"))\n",
    "inverted_right_triangle(height)"
   ]
  }
 ],
 "metadata": {
  "kernelspec": {
   "display_name": ".venv",
   "language": "python",
   "name": "python3"
  },
  "language_info": {
   "codemirror_mode": {
    "name": "ipython",
    "version": 3
   },
   "file_extension": ".py",
   "mimetype": "text/x-python",
   "name": "python",
   "nbconvert_exporter": "python",
   "pygments_lexer": "ipython3",
   "version": "3.12.0"
  }
 },
 "nbformat": 4,
 "nbformat_minor": 2
}
