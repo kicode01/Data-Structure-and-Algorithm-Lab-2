{
 "cells": [
  {
   "cell_type": "markdown",
   "metadata": {},
   "source": [
    "# Laboratory 2 - Exercises"
   ]
  },
  {
   "cell_type": "markdown",
   "metadata": {},
   "source": [
    "## Lab 2: Exercise 1\n",
    "#### A teacher named Mrs. Rivera who loved making math fun for her students. One day, a student named Mia asked how to calculate powers, like (2^7). Mrs. Rivera explained, “Imagine you need to multiply 2 by itself seven times. We can solve this using a python code utilizing  special method called recursion to solve this,” \n",
    "#### Can you help the class of Mrs. Rivera by providing the recursive method to calculate powers?"
   ]
  },
  {
   "cell_type": "code",
   "execution_count": 1,
   "metadata": {},
   "outputs": [
    {
     "name": "stdout",
     "output_type": "stream",
     "text": [
      "128\n"
     ]
    }
   ],
   "source": [
    "# Define the base number.\n",
    "base = 2\n",
    "\n",
    "# Define the exponent.\n",
    "exponent = 7\n",
    "\n",
    "# Recursive function to calculate power.\n",
    "def recursive_power(base, exponent):\n",
    "    # Base case: if the exponent is 0, return 1.\n",
    "    if exponent == 0:\n",
    "        return 1\n",
    "    else:\n",
    "        # Recursive case: multiply the base by the result of the function with the exponent decreased by 1.\n",
    "        return base * recursive_power(base, exponent - 1)\n",
    "\n",
    "# Calculate the result using the recursive function.\n",
    "result = recursive_power(base, exponent)\n",
    "\n",
    "# Print the result.\n",
    "print(result)"
   ]
  },
  {
   "cell_type": "markdown",
   "metadata": {},
   "source": [
    "## Lab 2: Exercise 2\n",
    "#### Compute for the cube of integers. "
   ]
  },
  {
   "cell_type": "code",
   "execution_count": 2,
   "metadata": {},
   "outputs": [
    {
     "name": "stdout",
     "output_type": "stream",
     "text": [
      "27\n",
      "1000\n",
      "8000\n"
     ]
    }
   ],
   "source": [
    "# Input the size of the array.\n",
    "size = int(input(\"Enter the size of the array: \"))\n",
    "\n",
    "# Input the elements of the array separated by space and convert them to a list of integers.\n",
    "elements = list(map(int, input(\"Enter the elements separated by space: \").split()))\n",
    "\n",
    "# Iterate through each element in the list and print its cube.\n",
    "for element in elements:\n",
    "    print(element ** 3)"
   ]
  },
  {
   "cell_type": "markdown",
   "metadata": {},
   "source": [
    "## Lab 2: Exercise 3\n",
    "#### Generate a hollow square based on the + integer input side length, n."
   ]
  },
  {
   "cell_type": "code",
   "execution_count": 3,
   "metadata": {},
   "outputs": [
    {
     "name": "stdout",
     "output_type": "stream",
     "text": [
      "xxxxxx\n",
      "x    x\n",
      "x    x\n",
      "x    x\n",
      "x    x\n",
      "xxxxxx\n"
     ]
    }
   ],
   "source": [
    "# Input the side length of the square.\n",
    "n = int(input(\"Enter the side length of the square: \"))\n",
    "\n",
    "# Generate the hollow square.\n",
    "for i in range(n):\n",
    "    # Print the first and last row completely filled with 'x'.\n",
    "    if i == 0 or i == n - 1:\n",
    "        print('x' * n)\n",
    "    else:\n",
    "        # Print the middle rows with 'x' at the start and end, and spaces in between.\n",
    "        print('x' + ' ' * (n - 2) + 'x')"
   ]
  },
  {
   "cell_type": "markdown",
   "metadata": {},
   "source": [
    "## Lab 2: Exercise 4\n",
    "#### Generate an inverted right triangle of height, n."
   ]
  },
  {
   "cell_type": "code",
   "execution_count": 4,
   "metadata": {},
   "outputs": [
    {
     "name": "stdout",
     "output_type": "stream",
     "text": [
      "******\n",
      "*****\n",
      "****\n",
      "***\n",
      "**\n",
      "*\n"
     ]
    }
   ],
   "source": [
    "# Input the height of the triangle.\n",
    "n = int(input(\"Enter the height of the triangle: \"))\n",
    "\n",
    "# Generate the inverted right triangle.\n",
    "for i in range(n, 0, -1):\n",
    "    # Print '*' i times for the current row.\n",
    "    print('*' * i)"
   ]
  }
 ],
 "metadata": {
  "kernelspec": {
   "display_name": ".venv",
   "language": "python",
   "name": "python3"
  },
  "language_info": {
   "codemirror_mode": {
    "name": "ipython",
    "version": 3
   },
   "file_extension": ".py",
   "mimetype": "text/x-python",
   "name": "python",
   "nbconvert_exporter": "python",
   "pygments_lexer": "ipython3",
   "version": "3.12.0"
  }
 },
 "nbformat": 4,
 "nbformat_minor": 2
}
